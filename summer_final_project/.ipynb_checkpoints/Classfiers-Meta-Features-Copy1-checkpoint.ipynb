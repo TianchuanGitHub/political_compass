{
 "cells": [
  {
   "cell_type": "code",
   "execution_count": 1,
   "metadata": {
    "collapsed": false
   },
   "outputs": [],
   "source": [
    "import pandas as pd\n",
    "import numpy as np\n",
    "\n",
    "from sklearn.cross_validation import cross_val_score\n",
    "from sklearn.cross_validation import train_test_split\n",
    "from sklearn.tree import DecisionTreeClassifier\n",
    "from sklearn import preprocessing\n",
    "from sklearn.linear_model import LogisticRegression\n",
    "from sklearn import cross_validation\n",
    "from sklearn.ensemble import RandomForestClassifier\n",
    "from sklearn.naive_bayes import MultinomialNB\n",
    "from sklearn.feature_extraction.text import CountVectorizer\n",
    "from sklearn import metrics\n",
    "from sklearn import tree\n",
    "\n",
    "%matplotlib inline"
   ]
  },
  {
   "cell_type": "code",
   "execution_count": 2,
   "metadata": {
    "collapsed": false
   },
   "outputs": [],
   "source": [
    "df = pd.read_csv('2014data.csv')\n",
    "data = df.copy()"
   ]
  },
  {
   "cell_type": "code",
   "execution_count": 3,
   "metadata": {
    "collapsed": false
   },
   "outputs": [],
   "source": [
    "question_list = data.columns[3:53]\n",
    "meta_list = data.columns[53:54].append(data.columns[56:])\n",
    "\n",
    "data['学历'] = data['学历'].replace({'初中及以下': '0','高中': '1','大学': '2','研究生及以上': '3'})\n",
    "data['性别'] = data['性别'].replace({'M': '1','F': '0'})\n",
    "for x in question_list:\n",
    "    data[x] = data[x].replace({'强烈反对': '0','反对': '0','同意': '1','强烈同意': '1'})\n",
    "    \n",
    "data = data.dropna()"
   ]
  },
  {
   "cell_type": "code",
   "execution_count": 4,
   "metadata": {
    "collapsed": false
   },
   "outputs": [],
   "source": [
    "# data['学历'] = data['学历'].replace({'初中及以下': '1','高中': '2','大学': '3','研究生及以上': '4'})\n",
    "# data['性别'] = data['性别'].replace({'M': '1','F': '0'})\n",
    "# for x in question_list:\n",
    "#     data[x] = data[x].replace({'强烈反对': 0,'反对': 0,'同意': 1,'强烈同意': 1})\n",
    "# # data['学历'].replace({'大学': '3'})\n",
    "# # data['学历'].replace({'研究生及以上': '4'})\n"
   ]
  },
  {
   "cell_type": "code",
   "execution_count": 5,
   "metadata": {
    "collapsed": false
   },
   "outputs": [],
   "source": [
    "def measure_performance(X,y,clf, show_accuracy=True, show_classification_report=True, show_confussion_matrix=True):\n",
    "    y_pred=clf.predict(X)\n",
    "    if show_accuracy:\n",
    "        print \"Accuracy of Classifier:{0:.3f}\".format(metrics.accuracy_score(y, y_pred)),\n",
    "    if show_confussion_matrix:\n",
    "        print \"Confusion matrix\"\n",
    "        print metrics.confusion_matrix(y,y_pred),\"\\n\"\n",
    "    if show_classification_report:\n",
    "        print \"Classification report\"\n",
    "        print metrics.classification_report(y,y_pred),\"\\n\""
   ]
  },
  {
   "cell_type": "code",
   "execution_count": 10,
   "metadata": {
    "collapsed": false
   },
   "outputs": [],
   "source": [
    "# RandomForestClassifier()\n",
    "# for i in range(len(question_list)):\n",
    "#     features = []\n",
    "#     labels = []\n",
    "#     features = np.asarray(data[question_list[:i]+question_list[i+1:]].dropna())\n",
    "#     labels = np.asarray(data[question_list[i]].dropna())\n",
    "#     x_train, x_test, y_train, y_test = train_test_split(features,labels,test_size=0.05,train_size=0.95)\n",
    "#     model = RandomForestClassifier()\n",
    "#     model.fit(x_train,y_train)\n",
    "#     print question_list[i]\n",
    "#     measure_performance(x_test,y_test,model)"
   ]
  },
  {
   "cell_type": "code",
   "execution_count": 9,
   "metadata": {
    "collapsed": false
   },
   "outputs": [],
   "source": [
    "# DecisionTreeClassifier()\n",
    "# for i in range(0,len(meta_list)):    \n",
    "#     features = []\n",
    "#     labels = []\n",
    "#     features = np.asarray(data[question_list])\n",
    "#     labels = np.asarray(data[meta_list[i]])\n",
    "#     x_train, x_test, y_train, y_test = train_test_split(features,labels,test_size=0.05,train_size=0.95)\n",
    "#     dt = tree.DecisionTreeClassifier()\n",
    "#     dt = dt.fit(x_train,y_train)\n",
    "#     print meta_list[i]\n",
    "#     i += 1\n",
    "#     measure_performance(x_test,y_test,dt)"
   ]
  },
  {
   "cell_type": "code",
   "execution_count": null,
   "metadata": {
    "collapsed": false
   },
   "outputs": [],
   "source": []
  },
  {
   "cell_type": "code",
   "execution_count": null,
   "metadata": {
    "collapsed": false
   },
   "outputs": [],
   "source": []
  },
  {
   "cell_type": "code",
   "execution_count": null,
   "metadata": {
    "collapsed": false
   },
   "outputs": [],
   "source": []
  },
  {
   "cell_type": "code",
   "execution_count": null,
   "metadata": {
    "collapsed": true
   },
   "outputs": [],
   "source": []
  },
  {
   "cell_type": "code",
   "execution_count": null,
   "metadata": {
    "collapsed": true
   },
   "outputs": [],
   "source": []
  }
 ],
 "metadata": {
  "kernelspec": {
   "display_name": "Python 2",
   "language": "python",
   "name": "python2"
  },
  "language_info": {
   "codemirror_mode": {
    "name": "ipython",
    "version": 2
   },
   "file_extension": ".py",
   "mimetype": "text/x-python",
   "name": "python",
   "nbconvert_exporter": "python",
   "pygments_lexer": "ipython2",
   "version": "2.7.10"
  }
 },
 "nbformat": 4,
 "nbformat_minor": 0
}
