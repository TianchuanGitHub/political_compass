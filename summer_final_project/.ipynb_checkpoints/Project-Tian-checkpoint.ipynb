{
 "cells": [
  {
   "cell_type": "code",
   "execution_count": 1,
   "metadata": {
    "collapsed": false
   },
   "outputs": [],
   "source": [
    "import pandas as pd\n",
    "import numpy as np\n",
    "import sys\n",
    "from collections import Counter\n",
    "pd.options.display.encoding = sys.stdout.encoding\n",
    "pd.set_option('display.max_colwidth', 1000)"
   ]
  },
  {
   "cell_type": "code",
   "execution_count": 2,
   "metadata": {
    "collapsed": false
   },
   "outputs": [],
   "source": [
    "question_table_df = pd.read_csv('question_table.csv')\n",
    "question_table_data = question_table_df.copy()"
   ]
  },
  {
   "cell_type": "code",
   "execution_count": 3,
   "metadata": {
    "collapsed": true
   },
   "outputs": [],
   "source": [
    "strs = ['National unity and territorial integrity are the highest interest of society.',\n",
    " 'It is acceptable besmirch the images of national leaders and founding leaders in literary and artistic works.',\n",
    " 'When events that have major repercussions for security of people occur, the government should freely disseminate information even if information disclosure increases the risks of unrest.',\n",
    " 'The Eight Diagrams (Bagua) in The Book of Changes (Zhouyi) can explain many things well.',\n",
    " 'It is preferable to let universities recruit students by themselves than to have a unified national college entrance examination system.',\n",
    " 'Human rights take precedence over sovereignty.',\n",
    " 'The state should take measures to train and support athletes so they can win glory for the country in various international competitions.',\n",
    " 'People who make money through capital gains contribute less to the society than people make money through labor.',\n",
    " 'It is unnecessary to push forward the simplification of Chinese characters.',\n",
    " 'Primary school, secondary school, and college students should all participate in government organized military training.',\n",
    " 'Lawyers should do their utmost to defend clients even if the client has committed a crime.',\n",
    " 'Force should be used to reunify Taiwan with China if conditions permit.',\n",
    " 'The fundamental standard to evaluate the value of a work of art is whether it is liked by the masses.',\n",
    " \"Sectors related to national security and important to the national economy and people's livelihoods must be controlled by state-owned enterprises.\",\n",
    " 'Chinese citizens should be allowed to hold foreign citizenship.',\n",
    " 'The process of capital accumulation is always accompanied by harm to the working class.',\n",
    " 'If the price of pork is too high, the government should intervene.',\n",
    " 'It is better to sell state-owned enterprises to capitalists than to let them go bankrupt.',\n",
    " 'Religoius adherents and adherents should be allowed to conduct missionary work in nonreligious spaces.',\n",
    " 'Individuals should be able to own, buy and sell land.',\n",
    " 'The state has an obligation to provide foreign aid.',\n",
    " 'Foreign capital in China should enjoy the same treatment as national capital.',\n",
    " 'Education should be public to the greatest extent.',\n",
    " 'If it has sufficient state capabilities, China has the right to take any action to defend its national interests.',\n",
    " 'I will recognize the relationship between my child and a homosexual partner if it is a voluntary choice.',\n",
    " 'Attempting to control real estate prices will undermine economic development.',\n",
    " 'The minimum wage should be set by the state.',\n",
    " 'The perspective of traditional Chinese medicine on human health is superior to that of modern mainstream medical science.',\n",
    " \"The fruits of China's economic development since reform and opening up are enjoyed by a small group of people; most people have not received much benefit.\",\n",
    " 'The government should adopt higher grain purchasing prices to boost the income of peasants.',\n",
    " 'Western multiparty systems are unsuitable for China in its current state.',\n",
    " 'The modern Chinese society needs Confucianism.',\n",
    " 'It is impossible for western countries led by the United States to tolerate the rise of China into a major power.',\n",
    " 'The primary means to improve the lives of the low-income people is to give them fiscal subsidies and support.',\n",
    " 'A rich person deserves better medical services.',\n",
    " 'Even with population pressures, the state and the society have no right to interfere in the decision to have a child, or how many children to have.',\n",
    " 'Two adults should be free to engage in voluntary sexual behavior regardless of their marital status.',\n",
    " 'Wasting food is an individual freedom.',\n",
    " 'In the decision-making of major (infrastructure) projects, individual interests should give way to social interests.',\n",
    " 'Indiscriminately imitating (systems of) western-style freedom of speech will lead to social disorder in China.',\n",
    " 'The interests of state-owned enterprises are part of the national interest.',\n",
    " 'Traditional Chinese classics should be the basic education material for children.',\n",
    " 'One should not openly comment on the shortcomings of their elders.',\n",
    " 'People should not have universal suffrage if they have not been educated about democracy.',\n",
    " 'Media should be allowed to represent the voice of a particular social stratum or interest group.',\n",
    " 'A high tariff should be imposed on imported goods that are also produced domestically to protect domestic industries.',\n",
    " 'When laws fail to fully constrain criminal behaviors, people have the right to impose their own punishments for these behaviors.',\n",
    " 'Natural monopolies that emerge out of market competitions are harmless.',\n",
    " 'Even if procedural rules are violated in the process of investigation and evidence gathering, those who have actually committed crimes should be punished.',\n",
    " 'High income earners should disclose the sources of their income.']\n",
    "impact = [0.22,0.21,0.21,0.21,0.20,0.20,0.20,0.19,0.19,0.19,0.19,0.18,0.17,0.17,0.2,0.17,0.16,0.16,0.1,0.15,0.14,0.14,0.13,0.13,0.13,0.12,0.12,0.12,0.12,0.12,0.12,0.12,0.11,0.11,0.11,0.10,0.10,0.10,0.10,0.09,0.09,0.08,0.08,0.07,0.06,0.06,0.06,0.06,0.05,0.02]"
   ]
  },
  {
   "cell_type": "code",
   "execution_count": 4,
   "metadata": {
    "collapsed": false,
    "scrolled": true
   },
   "outputs": [],
   "source": [
    "question_table_data['eg'] = strs\n",
    "question_table_data['impact'] = impact\n",
    "question_table_data.index = question_table_data['number']\n",
    "question_table_data['sign'] = question_table_data['sign'].replace({0: -1})\n",
    "question_table_data = question_table_data.sort()\n",
    "# question_table = pd.DataFrame(question_table_data[['number','category_number','eg','sign','impact']])\n",
    "# question_table.index = question_table['eg']\n",
    "# question_table = question_table.sort('number')\n",
    "# Some PCA stuff\n",
    "# https://en.wikipedia.org/wiki/Principal_component_analysis\n",
    "# http://www.cs.otago.ac.nz/cosc453/student_tutorials/principal_components.pdf\n",
    "# http://setosa.io/ev/principal-component-analysis/"
   ]
  },
  {
   "cell_type": "code",
   "execution_count": 5,
   "metadata": {
    "collapsed": false
   },
   "outputs": [],
   "source": [
    "df = pd.read_csv('2014data.csv')\n",
    "data = df.copy()"
   ]
  },
  {
   "cell_type": "code",
   "execution_count": 6,
   "metadata": {
    "collapsed": false
   },
   "outputs": [],
   "source": [
    "meta_data = pd.DataFrame(data[data.columns[0:3].append(data.columns[53:])])\n",
    "meta_data.columns = ['user_id','time','IP','gender','brith_year','income','education']\n",
    "meta_data.index = meta_data['user_id']\n",
    "meta_data['age'] = 2015 - meta_data['brith_year']\n",
    "meta_data = meta_data.replace({'初中及以下': 'middle_school_or_lower','高中': 'high_school','大学': 'undergraduate','研究生及以上': 'graduate_and_higher'})"
   ]
  },
  {
   "cell_type": "code",
   "execution_count": 7,
   "metadata": {
    "collapsed": false
   },
   "outputs": [],
   "source": [
    "question_data = pd.DataFrame(data[data.columns[3:53]])\n",
    "question_data.columns = question_table_data['eg']\n",
    "question_data.index = meta_data['user_id']\n",
    "question_data = question_data.replace({'强烈反对': -2,'反对': -1,'同意': 1,'强烈同意': 2})"
   ]
  },
  {
   "cell_type": "code",
   "execution_count": 8,
   "metadata": {
    "collapsed": false
   },
   "outputs": [],
   "source": [
    "meta_data = meta_data.drop('user_id', 1)\n",
    "cleaned_data = pd.concat([question_data, meta_data], axis=1)"
   ]
  },
  {
   "cell_type": "code",
   "execution_count": 9,
   "metadata": {
    "collapsed": false
   },
   "outputs": [],
   "source": [
    "# print data.columns\n",
    "# print question_table_data['eg']"
   ]
  },
  {
   "cell_type": "code",
   "execution_count": 10,
   "metadata": {
    "collapsed": true
   },
   "outputs": [],
   "source": [
    "# now we have four wonderful tables\n",
    "# 1. question_data\n",
    "# 2. meta_data\n",
    "# 3. cleaned_data\n",
    "# 4. question_table\n",
    "# But it would be better if we can 'normalize' the answers of our questions \n",
    "# (positive means more liberal and negative mean more conservative)\n",
    "better_data = cleaned_data.copy()"
   ]
  },
  {
   "cell_type": "code",
   "execution_count": 11,
   "metadata": {
    "collapsed": false
   },
   "outputs": [],
   "source": [
    "for i in range(1,51):\n",
    "    better_data[better_data.columns[i-1]] = better_data[better_data.columns[i-1]] * question_table_data.ix[i]['sign']    \n",
    "# only run this once!! magical stuff!!!"
   ]
  },
  {
   "cell_type": "code",
   "execution_count": 12,
   "metadata": {
    "collapsed": false
   },
   "outputs": [],
   "source": [
    "better_question_data = pd.DataFrame(better_data[better_data.columns[0:50]])\n",
    "question_table_data['mean'] = [better_question_data[x].mean() for x in better_question_data.columns]"
   ]
  },
  {
   "cell_type": "code",
   "execution_count": 13,
   "metadata": {
    "collapsed": true
   },
   "outputs": [],
   "source": [
    "# Before we dive into the data"
   ]
  },
  {
   "cell_type": "code",
   "execution_count": 14,
   "metadata": {
    "collapsed": false
   },
   "outputs": [
    {
     "name": "stdout",
     "output_type": "stream",
     "text": [
      "25.1103854796\n",
      "Counter({'M': 110110, 'F': 61545, nan: 175})\n",
      "Counter({'0-25k': 79393, '25k-50k': 26808, '50k-75k': 18710, '75k-100k': 14949, '100k-150k': 14528, '150k-300k': 9458, '300k+': 7162, nan: 822})\n"
     ]
    }
   ],
   "source": [
    "print meta_data['age'].mean()\n",
    "print Counter(meta_data['gender'])\n",
    "print Counter(meta_data['income'])"
   ]
  },
  {
   "cell_type": "code",
   "execution_count": null,
   "metadata": {
    "collapsed": false
   },
   "outputs": [],
   "source": []
  },
  {
   "cell_type": "code",
   "execution_count": 15,
   "metadata": {
    "collapsed": false
   },
   "outputs": [
    {
     "data": {
      "text/plain": [
       "(            mean  \\\n",
       " number             \n",
       " 20     -0.839097   \n",
       " 35     -0.686818   \n",
       " 45     -0.646342   \n",
       " \n",
       "                                                                                                                                                          eg  \n",
       " number                                                                                                                                                       \n",
       " 20                The state should take measures to train and support athletes so they can win glory for the country in various international competitions.  \n",
       " 35       Sectors related to national security and important to the national economy and people's livelihoods must be controlled by state-owned enterprises.  \n",
       " 45      Even with population pressures, the state and the society have no right to interfere in the decision to have a child, or how many children to have.  ,\n",
       "             mean  \\\n",
       " number             \n",
       " 19      0.580248   \n",
       " 48      0.605121   \n",
       " 43      0.683210   \n",
       " \n",
       "                                                                                                                        eg  \n",
       " number                                                                                                                     \n",
       " 19      It is impossible for western countries led by the United States to tolerate the rise of China into a major power.  \n",
       " 48                                            It is unnecessary to push forward the simplification of Chinese characters.  \n",
       " 43                                                                         The modern Chinese society needs Confucianism.  )"
      ]
     },
     "execution_count": 15,
     "metadata": {},
     "output_type": "execute_result"
    }
   ],
   "source": [
    "# part 1, questions that got most liberal and conservative answers\n",
    "question_table_data[['mean','eg']].sort('mean')[:3],question_table_data[['mean','eg']].sort('mean')[-3:]"
   ]
  },
  {
   "cell_type": "code",
   "execution_count": 16,
   "metadata": {
    "collapsed": false
   },
   "outputs": [
    {
     "data": {
      "text/html": [
       "<div>\n",
       "<table border=\"1\" class=\"dataframe\">\n",
       "  <thead>\n",
       "    <tr style=\"text-align: right;\">\n",
       "      <th></th>\n",
       "      <th>mean</th>\n",
       "      <th>eg</th>\n",
       "    </tr>\n",
       "    <tr>\n",
       "      <th>number</th>\n",
       "      <th></th>\n",
       "      <th></th>\n",
       "    </tr>\n",
       "  </thead>\n",
       "  <tbody>\n",
       "    <tr>\n",
       "      <th>20</th>\n",
       "      <td>-0.839097</td>\n",
       "      <td>The state should take measures to train and support athletes so they can win glory for the country in various international competitions.</td>\n",
       "    </tr>\n",
       "    <tr>\n",
       "      <th>35</th>\n",
       "      <td>-0.686818</td>\n",
       "      <td>Sectors related to national security and important to the national economy and people's livelihoods must be controlled by state-owned enterprises.</td>\n",
       "    </tr>\n",
       "    <tr>\n",
       "      <th>45</th>\n",
       "      <td>-0.646342</td>\n",
       "      <td>Even with population pressures, the state and the society have no right to interfere in the decision to have a child, or how many children to have.</td>\n",
       "    </tr>\n",
       "    <tr>\n",
       "      <th>29</th>\n",
       "      <td>-0.607438</td>\n",
       "      <td>Attempting to control real estate prices will undermine economic development.</td>\n",
       "    </tr>\n",
       "    <tr>\n",
       "      <th>39</th>\n",
       "      <td>-0.562469</td>\n",
       "      <td>Foreign capital in China should enjoy the same treatment as national capital.</td>\n",
       "    </tr>\n",
       "    <tr>\n",
       "      <th>38</th>\n",
       "      <td>-0.371152</td>\n",
       "      <td>The government should adopt higher grain purchasing prices to boost the income of peasants.</td>\n",
       "    </tr>\n",
       "    <tr>\n",
       "      <th>18</th>\n",
       "      <td>-0.363202</td>\n",
       "      <td>Chinese citizens should be allowed to hold foreign citizenship.</td>\n",
       "    </tr>\n",
       "    <tr>\n",
       "      <th>15</th>\n",
       "      <td>-0.337950</td>\n",
       "      <td>If it has sufficient state capabilities, China has the right to take any action to defend its national interests.</td>\n",
       "    </tr>\n",
       "    <tr>\n",
       "      <th>34</th>\n",
       "      <td>-0.337008</td>\n",
       "      <td>It is better to sell state-owned enterprises to capitalists than to let them go bankrupt.</td>\n",
       "    </tr>\n",
       "    <tr>\n",
       "      <th>7</th>\n",
       "      <td>-0.335186</td>\n",
       "      <td>Religoius adherents and adherents should be allowed to conduct missionary work in nonreligious spaces.</td>\n",
       "    </tr>\n",
       "    <tr>\n",
       "      <th>31</th>\n",
       "      <td>-0.316365</td>\n",
       "      <td>A rich person deserves better medical services.</td>\n",
       "    </tr>\n",
       "    <tr>\n",
       "      <th>47</th>\n",
       "      <td>-0.312757</td>\n",
       "      <td>The perspective of traditional Chinese medicine on human health is superior to that of modern mainstream medical science.</td>\n",
       "    </tr>\n",
       "    <tr>\n",
       "      <th>33</th>\n",
       "      <td>-0.301030</td>\n",
       "      <td>People who make money through capital gains contribute less to the society than people make money through labor.</td>\n",
       "    </tr>\n",
       "    <tr>\n",
       "      <th>9</th>\n",
       "      <td>-0.282366</td>\n",
       "      <td>National unity and territorial integrity are the highest interest of society.</td>\n",
       "    </tr>\n",
       "    <tr>\n",
       "      <th>14</th>\n",
       "      <td>-0.236524</td>\n",
       "      <td>Media should be allowed to represent the voice of a particular social stratum or interest group.</td>\n",
       "    </tr>\n",
       "    <tr>\n",
       "      <th>5</th>\n",
       "      <td>-0.194332</td>\n",
       "      <td>Indiscriminately imitating (systems of) western-style freedom of speech will lead to social disorder in China.</td>\n",
       "    </tr>\n",
       "    <tr>\n",
       "      <th>25</th>\n",
       "      <td>-0.165879</td>\n",
       "      <td>If the price of pork is too high, the government should intervene.</td>\n",
       "    </tr>\n",
       "    <tr>\n",
       "      <th>49</th>\n",
       "      <td>-0.163545</td>\n",
       "      <td>Traditional Chinese classics should be the basic education material for children.</td>\n",
       "    </tr>\n",
       "    <tr>\n",
       "      <th>3</th>\n",
       "      <td>-0.154548</td>\n",
       "      <td>When events that have major repercussions for security of people occur, the government should freely disseminate information even if information disclosure increases the risks of unrest.</td>\n",
       "    </tr>\n",
       "    <tr>\n",
       "      <th>22</th>\n",
       "      <td>-0.152581</td>\n",
       "      <td>The fruits of China's economic development since reform and opening up are enjoyed by a small group of people; most people have not received much benefit.</td>\n",
       "    </tr>\n",
       "    <tr>\n",
       "      <th>46</th>\n",
       "      <td>-0.131828</td>\n",
       "      <td>The Eight Diagrams (Bagua) in The Book of Changes (Zhouyi) can explain many things well.</td>\n",
       "    </tr>\n",
       "    <tr>\n",
       "      <th>32</th>\n",
       "      <td>-0.126194</td>\n",
       "      <td>High income earners should disclose the sources of their income.</td>\n",
       "    </tr>\n",
       "    <tr>\n",
       "      <th>11</th>\n",
       "      <td>-0.117506</td>\n",
       "      <td>The state has an obligation to provide foreign aid.</td>\n",
       "    </tr>\n",
       "    <tr>\n",
       "      <th>10</th>\n",
       "      <td>-0.091631</td>\n",
       "      <td>Even if procedural rules are violated in the process of investigation and evidence gathering, those who have actually committed crimes should be punished.</td>\n",
       "    </tr>\n",
       "    <tr>\n",
       "      <th>23</th>\n",
       "      <td>-0.079317</td>\n",
       "      <td>In the decision-making of major (infrastructure) projects, individual interests should give way to social interests.</td>\n",
       "    </tr>\n",
       "    <tr>\n",
       "      <th>42</th>\n",
       "      <td>-0.066665</td>\n",
       "      <td>One should not openly comment on the shortcomings of their elders.</td>\n",
       "    </tr>\n",
       "    <tr>\n",
       "      <th>6</th>\n",
       "      <td>-0.036978</td>\n",
       "      <td>It is preferable to let universities recruit students by themselves than to have a unified national college entrance examination system.</td>\n",
       "    </tr>\n",
       "    <tr>\n",
       "      <th>41</th>\n",
       "      <td>-0.032515</td>\n",
       "      <td>Two adults should be free to engage in voluntary sexual behavior regardless of their marital status.</td>\n",
       "    </tr>\n",
       "    <tr>\n",
       "      <th>8</th>\n",
       "      <td>0.067328</td>\n",
       "      <td>Primary school, secondary school, and college students should all participate in government organized military training.</td>\n",
       "    </tr>\n",
       "    <tr>\n",
       "      <th>1</th>\n",
       "      <td>0.092376</td>\n",
       "      <td>People should not have universal suffrage if they have not been educated about democracy.</td>\n",
       "    </tr>\n",
       "    <tr>\n",
       "      <th>16</th>\n",
       "      <td>0.124844</td>\n",
       "      <td>Force should be used to reunify Taiwan with China if conditions permit.</td>\n",
       "    </tr>\n",
       "    <tr>\n",
       "      <th>13</th>\n",
       "      <td>0.147407</td>\n",
       "      <td>When laws fail to fully constrain criminal behaviors, people have the right to impose their own punishments for these behaviors.</td>\n",
       "    </tr>\n",
       "    <tr>\n",
       "      <th>50</th>\n",
       "      <td>0.159012</td>\n",
       "      <td>I will recognize the relationship between my child and a homosexual partner if it is a voluntary choice.</td>\n",
       "    </tr>\n",
       "    <tr>\n",
       "      <th>17</th>\n",
       "      <td>0.174102</td>\n",
       "      <td>Lawyers should do their utmost to defend clients even if the client has committed a crime.</td>\n",
       "    </tr>\n",
       "    <tr>\n",
       "      <th>40</th>\n",
       "      <td>0.174225</td>\n",
       "      <td>Natural monopolies that emerge out of market competitions are harmless.</td>\n",
       "    </tr>\n",
       "    <tr>\n",
       "      <th>37</th>\n",
       "      <td>0.221655</td>\n",
       "      <td>Individuals should be able to own, buy and sell land.</td>\n",
       "    </tr>\n",
       "    <tr>\n",
       "      <th>4</th>\n",
       "      <td>0.242007</td>\n",
       "      <td>Western multiparty systems are unsuitable for China in its current state.</td>\n",
       "    </tr>\n",
       "    <tr>\n",
       "      <th>36</th>\n",
       "      <td>0.245021</td>\n",
       "      <td>The process of capital accumulation is always accompanied by harm to the working class.</td>\n",
       "    </tr>\n",
       "    <tr>\n",
       "      <th>2</th>\n",
       "      <td>0.265413</td>\n",
       "      <td>Human rights take precedence over sovereignty.</td>\n",
       "    </tr>\n",
       "    <tr>\n",
       "      <th>30</th>\n",
       "      <td>0.277274</td>\n",
       "      <td>The primary means to improve the lives of the low-income people is to give them fiscal subsidies and support.</td>\n",
       "    </tr>\n",
       "    <tr>\n",
       "      <th>44</th>\n",
       "      <td>0.290269</td>\n",
       "      <td>The fundamental standard to evaluate the value of a work of art is whether it is liked by the masses.</td>\n",
       "    </tr>\n",
       "    <tr>\n",
       "      <th>28</th>\n",
       "      <td>0.317354</td>\n",
       "      <td>The interests of state-owned enterprises are part of the national interest.</td>\n",
       "    </tr>\n",
       "    <tr>\n",
       "      <th>21</th>\n",
       "      <td>0.354734</td>\n",
       "      <td>The minimum wage should be set by the state.</td>\n",
       "    </tr>\n",
       "    <tr>\n",
       "      <th>12</th>\n",
       "      <td>0.364238</td>\n",
       "      <td>It is acceptable besmirch the images of national leaders and founding leaders in literary and artistic works.</td>\n",
       "    </tr>\n",
       "    <tr>\n",
       "      <th>27</th>\n",
       "      <td>0.392207</td>\n",
       "      <td>Education should be public to the greatest extent.</td>\n",
       "    </tr>\n",
       "    <tr>\n",
       "      <th>26</th>\n",
       "      <td>0.405220</td>\n",
       "      <td>A high tariff should be imposed on imported goods that are also produced domestically to protect domestic industries.</td>\n",
       "    </tr>\n",
       "    <tr>\n",
       "      <th>24</th>\n",
       "      <td>0.579131</td>\n",
       "      <td>Wasting food is an individual freedom.</td>\n",
       "    </tr>\n",
       "    <tr>\n",
       "      <th>19</th>\n",
       "      <td>0.580248</td>\n",
       "      <td>It is impossible for western countries led by the United States to tolerate the rise of China into a major power.</td>\n",
       "    </tr>\n",
       "    <tr>\n",
       "      <th>48</th>\n",
       "      <td>0.605121</td>\n",
       "      <td>It is unnecessary to push forward the simplification of Chinese characters.</td>\n",
       "    </tr>\n",
       "    <tr>\n",
       "      <th>43</th>\n",
       "      <td>0.683210</td>\n",
       "      <td>The modern Chinese society needs Confucianism.</td>\n",
       "    </tr>\n",
       "  </tbody>\n",
       "</table>\n",
       "</div>"
      ],
      "text/plain": [
       "            mean  \\\n",
       "number             \n",
       "20     -0.839097   \n",
       "35     -0.686818   \n",
       "45     -0.646342   \n",
       "29     -0.607438   \n",
       "39     -0.562469   \n",
       "38     -0.371152   \n",
       "18     -0.363202   \n",
       "15     -0.337950   \n",
       "34     -0.337008   \n",
       "7      -0.335186   \n",
       "31     -0.316365   \n",
       "47     -0.312757   \n",
       "33     -0.301030   \n",
       "9      -0.282366   \n",
       "14     -0.236524   \n",
       "5      -0.194332   \n",
       "25     -0.165879   \n",
       "49     -0.163545   \n",
       "3      -0.154548   \n",
       "22     -0.152581   \n",
       "46     -0.131828   \n",
       "32     -0.126194   \n",
       "11     -0.117506   \n",
       "10     -0.091631   \n",
       "23     -0.079317   \n",
       "42     -0.066665   \n",
       "6      -0.036978   \n",
       "41     -0.032515   \n",
       "8       0.067328   \n",
       "1       0.092376   \n",
       "16      0.124844   \n",
       "13      0.147407   \n",
       "50      0.159012   \n",
       "17      0.174102   \n",
       "40      0.174225   \n",
       "37      0.221655   \n",
       "4       0.242007   \n",
       "36      0.245021   \n",
       "2       0.265413   \n",
       "30      0.277274   \n",
       "44      0.290269   \n",
       "28      0.317354   \n",
       "21      0.354734   \n",
       "12      0.364238   \n",
       "27      0.392207   \n",
       "26      0.405220   \n",
       "24      0.579131   \n",
       "19      0.580248   \n",
       "48      0.605121   \n",
       "43      0.683210   \n",
       "\n",
       "                                                                                                                                                                                                eg  \n",
       "number                                                                                                                                                                                              \n",
       "20                                                       The state should take measures to train and support athletes so they can win glory for the country in various international competitions.  \n",
       "35                                              Sectors related to national security and important to the national economy and people's livelihoods must be controlled by state-owned enterprises.  \n",
       "45                                             Even with population pressures, the state and the society have no right to interfere in the decision to have a child, or how many children to have.  \n",
       "29                                                                                                                   Attempting to control real estate prices will undermine economic development.  \n",
       "39                                                                                                                   Foreign capital in China should enjoy the same treatment as national capital.  \n",
       "38                                                                                                     The government should adopt higher grain purchasing prices to boost the income of peasants.  \n",
       "18                                                                                                                                 Chinese citizens should be allowed to hold foreign citizenship.  \n",
       "15                                                                               If it has sufficient state capabilities, China has the right to take any action to defend its national interests.  \n",
       "34                                                                                                       It is better to sell state-owned enterprises to capitalists than to let them go bankrupt.  \n",
       "7                                                                                           Religoius adherents and adherents should be allowed to conduct missionary work in nonreligious spaces.  \n",
       "31                                                                                                                                                 A rich person deserves better medical services.  \n",
       "47                                                                       The perspective of traditional Chinese medicine on human health is superior to that of modern mainstream medical science.  \n",
       "33                                                                                People who make money through capital gains contribute less to the society than people make money through labor.  \n",
       "9                                                                                                                    National unity and territorial integrity are the highest interest of society.  \n",
       "14                                                                                                Media should be allowed to represent the voice of a particular social stratum or interest group.  \n",
       "5                                                                                   Indiscriminately imitating (systems of) western-style freedom of speech will lead to social disorder in China.  \n",
       "25                                                                                                                              If the price of pork is too high, the government should intervene.  \n",
       "49                                                                                                               Traditional Chinese classics should be the basic education material for children.  \n",
       "3       When events that have major repercussions for security of people occur, the government should freely disseminate information even if information disclosure increases the risks of unrest.  \n",
       "22                                      The fruits of China's economic development since reform and opening up are enjoyed by a small group of people; most people have not received much benefit.  \n",
       "46                                                                                                        The Eight Diagrams (Bagua) in The Book of Changes (Zhouyi) can explain many things well.  \n",
       "32                                                                                                                                High income earners should disclose the sources of their income.  \n",
       "11                                                                                                                                             The state has an obligation to provide foreign aid.  \n",
       "10                                      Even if procedural rules are violated in the process of investigation and evidence gathering, those who have actually committed crimes should be punished.  \n",
       "23                                                                            In the decision-making of major (infrastructure) projects, individual interests should give way to social interests.  \n",
       "42                                                                                                                              One should not openly comment on the shortcomings of their elders.  \n",
       "6                                                         It is preferable to let universities recruit students by themselves than to have a unified national college entrance examination system.  \n",
       "41                                                                                            Two adults should be free to engage in voluntary sexual behavior regardless of their marital status.  \n",
       "8                                                                         Primary school, secondary school, and college students should all participate in government organized military training.  \n",
       "1                                                                                                        People should not have universal suffrage if they have not been educated about democracy.  \n",
       "16                                                                                                                         Force should be used to reunify Taiwan with China if conditions permit.  \n",
       "13                                                                When laws fail to fully constrain criminal behaviors, people have the right to impose their own punishments for these behaviors.  \n",
       "50                                                                                        I will recognize the relationship between my child and a homosexual partner if it is a voluntary choice.  \n",
       "17                                                                                                      Lawyers should do their utmost to defend clients even if the client has committed a crime.  \n",
       "40                                                                                                                         Natural monopolies that emerge out of market competitions are harmless.  \n",
       "37                                                                                                                                           Individuals should be able to own, buy and sell land.  \n",
       "4                                                                                                                        Western multiparty systems are unsuitable for China in its current state.  \n",
       "36                                                                                                         The process of capital accumulation is always accompanied by harm to the working class.  \n",
       "2                                                                                                                                                   Human rights take precedence over sovereignty.  \n",
       "30                                                                                   The primary means to improve the lives of the low-income people is to give them fiscal subsidies and support.  \n",
       "44                                                                                           The fundamental standard to evaluate the value of a work of art is whether it is liked by the masses.  \n",
       "28                                                                                                                     The interests of state-owned enterprises are part of the national interest.  \n",
       "21                                                                                                                                                    The minimum wage should be set by the state.  \n",
       "12                                                                                   It is acceptable besmirch the images of national leaders and founding leaders in literary and artistic works.  \n",
       "27                                                                                                                                              Education should be public to the greatest extent.  \n",
       "26                                                                           A high tariff should be imposed on imported goods that are also produced domestically to protect domestic industries.  \n",
       "24                                                                                                                                                          Wasting food is an individual freedom.  \n",
       "19                                                                               It is impossible for western countries led by the United States to tolerate the rise of China into a major power.  \n",
       "48                                                                                                                     It is unnecessary to push forward the simplification of Chinese characters.  \n",
       "43                                                                                                                                                  The modern Chinese society needs Confucianism.  "
      ]
     },
     "execution_count": 16,
     "metadata": {},
     "output_type": "execute_result"
    }
   ],
   "source": [
    "question_table_data[['mean','eg']].sort('mean')"
   ]
  },
  {
   "cell_type": "code",
   "execution_count": 17,
   "metadata": {
    "collapsed": false
   },
   "outputs": [
    {
     "name": "stdout",
     "output_type": "stream",
     "text": [
      "                                                                                                                                                                                                eg  \\\n",
      "number                                                                                                                                                                                               \n",
      "35                                              Sectors related to national security and important to the national economy and people's livelihoods must be controlled by state-owned enterprises.   \n",
      "45                                             Even with population pressures, the state and the society have no right to interfere in the decision to have a child, or how many children to have.   \n",
      "49                                                                                                               Traditional Chinese classics should be the basic education material for children.   \n",
      "43                                                                                                                                                  The modern Chinese society needs Confucianism.   \n",
      "20                                                       The state should take measures to train and support athletes so they can win glory for the country in various international competitions.   \n",
      "29                                                                                                                   Attempting to control real estate prices will undermine economic development.   \n",
      "47                                                                       The perspective of traditional Chinese medicine on human health is superior to that of modern mainstream medical science.   \n",
      "10                                      Even if procedural rules are violated in the process of investigation and evidence gathering, those who have actually committed crimes should be punished.   \n",
      "50                                                                                        I will recognize the relationship between my child and a homosexual partner if it is a voluntary choice.   \n",
      "48                                                                                                                     It is unnecessary to push forward the simplification of Chinese characters.   \n",
      "27                                                                                                                                              Education should be public to the greatest extent.   \n",
      "22                                      The fruits of China's economic development since reform and opening up are enjoyed by a small group of people; most people have not received much benefit.   \n",
      "18                                                                                                                                 Chinese citizens should be allowed to hold foreign citizenship.   \n",
      "28                                                                                                                     The interests of state-owned enterprises are part of the national interest.   \n",
      "38                                                                                                     The government should adopt higher grain purchasing prices to boost the income of peasants.   \n",
      "44                                                                                           The fundamental standard to evaluate the value of a work of art is whether it is liked by the masses.   \n",
      "31                                                                                                                                                 A rich person deserves better medical services.   \n",
      "40                                                                                                                         Natural monopolies that emerge out of market competitions are harmless.   \n",
      "36                                                                                                         The process of capital accumulation is always accompanied by harm to the working class.   \n",
      "39                                                                                                                   Foreign capital in China should enjoy the same treatment as national capital.   \n",
      "24                                                                                                                                                          Wasting food is an individual freedom.   \n",
      "23                                                                            In the decision-making of major (infrastructure) projects, individual interests should give way to social interests.   \n",
      "19                                                                               It is impossible for western countries led by the United States to tolerate the rise of China into a major power.   \n",
      "12                                                                                   It is acceptable besmirch the images of national leaders and founding leaders in literary and artistic works.   \n",
      "33                                                                                People who make money through capital gains contribute less to the society than people make money through labor.   \n",
      "26                                                                           A high tariff should be imposed on imported goods that are also produced domestically to protect domestic industries.   \n",
      "7                                                                                           Religoius adherents and adherents should be allowed to conduct missionary work in nonreligious spaces.   \n",
      "37                                                                                                                                           Individuals should be able to own, buy and sell land.   \n",
      "4                                                                                                                        Western multiparty systems are unsuitable for China in its current state.   \n",
      "41                                                                                            Two adults should be free to engage in voluntary sexual behavior regardless of their marital status.   \n",
      "1                                                                                                        People should not have universal suffrage if they have not been educated about democracy.   \n",
      "34                                                                                                       It is better to sell state-owned enterprises to capitalists than to let them go bankrupt.   \n",
      "42                                                                                                                              One should not openly comment on the shortcomings of their elders.   \n",
      "5                                                                                   Indiscriminately imitating (systems of) western-style freedom of speech will lead to social disorder in China.   \n",
      "13                                                                When laws fail to fully constrain criminal behaviors, people have the right to impose their own punishments for these behaviors.   \n",
      "46                                                                                                        The Eight Diagrams (Bagua) in The Book of Changes (Zhouyi) can explain many things well.   \n",
      "14                                                                                                Media should be allowed to represent the voice of a particular social stratum or interest group.   \n",
      "16                                                                                                                         Force should be used to reunify Taiwan with China if conditions permit.   \n",
      "2                                                                                                                                                   Human rights take precedence over sovereignty.   \n",
      "11                                                                                                                                             The state has an obligation to provide foreign aid.   \n",
      "21                                                                                                                                                    The minimum wage should be set by the state.   \n",
      "15                                                                               If it has sufficient state capabilities, China has the right to take any action to defend its national interests.   \n",
      "32                                                                                                                                High income earners should disclose the sources of their income.   \n",
      "25                                                                                                                              If the price of pork is too high, the government should intervene.   \n",
      "3       When events that have major repercussions for security of people occur, the government should freely disseminate information even if information disclosure increases the risks of unrest.   \n",
      "6                                                         It is preferable to let universities recruit students by themselves than to have a unified national college entrance examination system.   \n",
      "8                                                                         Primary school, secondary school, and college students should all participate in government organized military training.   \n",
      "9                                                                                                                    National unity and territorial integrity are the highest interest of society.   \n",
      "30                                                                                   The primary means to improve the lives of the low-income people is to give them fiscal subsidies and support.   \n",
      "17                                                                                                      Lawyers should do their utmost to defend clients even if the client has committed a crime.   \n",
      "\n",
      "        difference  \n",
      "number              \n",
      "35        1.034091  \n",
      "45        1.104068  \n",
      "49        1.154491  \n",
      "43        1.159008  \n",
      "20        1.161535  \n",
      "29        1.164819  \n",
      "47        1.171130  \n",
      "10        1.179061  \n",
      "50        1.180472  \n",
      "48        1.180533  \n",
      "27        1.185605  \n",
      "22        1.192961  \n",
      "18        1.203182  \n",
      "28        1.212082  \n",
      "38        1.212345  \n",
      "44        1.213713  \n",
      "31        1.225860  \n",
      "40        1.229728  \n",
      "36        1.230161  \n",
      "39        1.231402  \n",
      "24        1.232235  \n",
      "23        1.238290  \n",
      "19        1.242027  \n",
      "12        1.242157  \n",
      "33        1.247078  \n",
      "26        1.253322  \n",
      "7         1.257189  \n",
      "37        1.258528  \n",
      "4         1.271313  \n",
      "41        1.285890  \n",
      "1         1.300630  \n",
      "34        1.303049  \n",
      "42        1.310728  \n",
      "5         1.314097  \n",
      "13        1.318828  \n",
      "46        1.318895  \n",
      "14        1.322670  \n",
      "16        1.323168  \n",
      "2         1.328212  \n",
      "11        1.338067  \n",
      "21        1.343902  \n",
      "15        1.345537  \n",
      "32        1.350145  \n",
      "25        1.355907  \n",
      "3         1.359540  \n",
      "6         1.362527  \n",
      "8         1.394843  \n",
      "9         1.397762  \n",
      "30        1.416647  \n",
      "17        1.429464  \n"
     ]
    }
   ],
   "source": [
    "# part 2, difference\n",
    "question_table_data['difference'] = [question_data[x].std() for x in question_data.columns]\n",
    "print question_table_data.sort('difference')[['eg','difference']]"
   ]
  },
  {
   "cell_type": "code",
   "execution_count": 18,
   "metadata": {
    "collapsed": false
   },
   "outputs": [],
   "source": [
    "# part 3, correaltions "
   ]
  },
  {
   "cell_type": "code",
   "execution_count": 19,
   "metadata": {
    "collapsed": false
   },
   "outputs": [
    {
     "data": {
      "text/plain": [
       "(eg\n",
       " Human rights take precedence over sovereignty.                                                                  -0.389843\n",
       " It is acceptable besmirch the images of national leaders and founding leaders in literary and artistic works.   -0.382157\n",
       " Lawyers should do their utmost to defend clients even if the client has committed a crime.                      -0.370643\n",
       " Name: National unity and territorial integrity are the highest interest of society., dtype: float64,\n",
       " eg\n",
       " The state should take measures to train and support athletes so they can win glory for the country in various international competitions.    0.349779\n",
       " People who make money through capital gains contribute less to the society than people make money through labor.                             0.359121\n",
       " Primary school, secondary school, and college students should all participate in government organized military training.                     0.376104\n",
       " Name: National unity and territorial integrity are the highest interest of society., dtype: float64)"
      ]
     },
     "execution_count": 19,
     "metadata": {},
     "output_type": "execute_result"
    }
   ],
   "source": [
    "question_correlation_table = question_data.corr().copy()\n",
    "question_correlation_table[strs[0]].order()[:3],question_correlation_table[strs[0]].order()[-4:-1]"
   ]
  },
  {
   "cell_type": "code",
   "execution_count": 20,
   "metadata": {
    "collapsed": false,
    "scrolled": true
   },
   "outputs": [],
   "source": [
    "# part 4 query\n",
    "table = question_correlation_table.copy()\n",
    "def query(question_str):\n",
    "    print 'The most positively correlated question is:',table[question_str].order()[-2:-1]\n",
    "    print 'The most negatively correlated question is:',table[question_str].order()[:1]\n",
    "    print 'The average attitude of this question is:',better_data[question_str].mean()\n",
    "    print 'The difference of attitude toward this question is:',question_data[x].std()\n",
    "    "
   ]
  },
  {
   "cell_type": "code",
   "execution_count": 21,
   "metadata": {
    "collapsed": false,
    "scrolled": true
   },
   "outputs": [
    {
     "name": "stdout",
     "output_type": "stream",
     "text": [
      "The most positively correlated question is: eg\n",
      "It is unnecessary to push forward the simplification of Chinese characters.    0.34799\n",
      "Name: Force should be used to reunify Taiwan with China if conditions permit., dtype: float64\n",
      "The most negatively correlated question is: eg\n",
      "It is acceptable besmirch the images of national leaders and founding leaders in literary and artistic works.   -0.342366\n",
      "Name: Force should be used to reunify Taiwan with China if conditions permit., dtype: float64\n",
      "The average attitude of this question is: 0.124844322877\n",
      "The difference of attitude toward this question is: 1.18047244017\n"
     ]
    }
   ],
   "source": [
    "query('Force should be used to reunify Taiwan with China if conditions permit.')"
   ]
  },
  {
   "cell_type": "code",
   "execution_count": 22,
   "metadata": {
    "collapsed": false
   },
   "outputs": [],
   "source": [
    "# part5 prediction - using machine learning techniques\n",
    "from sklearn.cross_validation import cross_val_score\n",
    "from sklearn.cross_validation import train_test_split\n",
    "from sklearn.tree import DecisionTreeClassifier\n",
    "from sklearn import preprocessing\n",
    "from sklearn.linear_model import LogisticRegression\n",
    "from sklearn import cross_validation\n",
    "from sklearn.ensemble import RandomForestClassifier\n",
    "from sklearn.naive_bayes import MultinomialNB\n",
    "from sklearn.feature_extraction.text import CountVectorizer\n",
    "from sklearn import metrics\n",
    "from sklearn import tree\n",
    "from sklearn.naive_bayes import GaussianNB "
   ]
  },
  {
   "cell_type": "code",
   "execution_count": 23,
   "metadata": {
    "collapsed": false
   },
   "outputs": [],
   "source": [
    "def measure_performance(X,y,clf, show_accuracy=True, show_classification_report=True, show_confussion_matrix=True):\n",
    "    y_pred=clf.predict(X)\n",
    "    if show_accuracy:\n",
    "        print \"Accuracy of Classifier:{0:.3f}\".format(metrics.accuracy_score(y, y_pred)),\n",
    "#     if show_confussion_matrix:\n",
    "#         print \"Confusion matrix\"\n",
    "#         print metrics.confusion_matrix(y,y_pred),\"\\n\"\n",
    "#     if show_classification_report:\n",
    "#         print \"Classification report\"\n",
    "#         print metrics.classification_report(y,y_pred),\"\\n\""
   ]
  },
  {
   "cell_type": "code",
   "execution_count": 24,
   "metadata": {
    "collapsed": false
   },
   "outputs": [
    {
     "name": "stdout",
     "output_type": "stream",
     "text": [
      "Accuracy of Classifier:0.746\n"
     ]
    },
    {
     "name": "stderr",
     "output_type": "stream",
     "text": [
      "/Users/christian/anaconda/lib/python2.7/site-packages/numpy/lib/arraysetops.py:198: FutureWarning: numpy not_equal will not check object identity in the future. The comparison did not return the same result as suggested by the identity (`is`)) and will change.\n",
      "  flag = np.concatenate(([True], aux[1:] != aux[:-1]))\n"
     ]
    }
   ],
   "source": [
    "# RandomForestClassifier()\n",
    "features = []\n",
    "labels = []\n",
    "features = np.asarray(question_data)\n",
    "labels = np.asarray(meta_data['gender'])\n",
    "x_train, x_test, y_train, y_test = train_test_split(features,labels,test_size=0.05,train_size=0.95)\n",
    "model = RandomForestClassifier()\n",
    "model.fit(x_train,y_train)\n",
    "measure_performance(x_test,y_test,model)"
   ]
  },
  {
   "cell_type": "code",
   "execution_count": 25,
   "metadata": {
    "collapsed": false
   },
   "outputs": [
    {
     "name": "stdout",
     "output_type": "stream",
     "text": [
      "Accuracy of Classifier:0.689\n"
     ]
    }
   ],
   "source": [
    "# DecisionTreeClassifier()\n",
    "features = []\n",
    "labels = []\n",
    "features = np.asarray(question_data)\n",
    "labels = np.asarray(meta_data['gender'])\n",
    "x_train, x_test, y_train, y_test = train_test_split(features,labels,test_size=0.05,train_size=0.95)\n",
    "dt = tree.DecisionTreeClassifier()\n",
    "dt = dt.fit(x_train,y_train)\n",
    "measure_performance(x_test,y_test,dt)"
   ]
  },
  {
   "cell_type": "code",
   "execution_count": 26,
   "metadata": {
    "collapsed": false
   },
   "outputs": [
    {
     "name": "stdout",
     "output_type": "stream",
     "text": [
      "Accuracy of Classifier:0.772\n"
     ]
    }
   ],
   "source": [
    "# LogisticRegression()\n",
    "question_data_log = question_data.copy()\n",
    "question_data_log['gender_female'] = meta_data['gender'].apply(lambda x:1 if x=='F' else 0)\n",
    "lm = LogisticRegression()\n",
    "features = np.asarray(question_data_log[question_data_log.columns[0:50]])\n",
    "labels = np.asarray(question_data_log['gender_female'])\n",
    "x_train, x_test, y_train, y_test = train_test_split(features,labels,test_size=0.05,train_size=0.95)\n",
    "lm = lm.fit(x_train,y_train)\n",
    "measure_performance(x_test,y_test,lm)"
   ]
  },
  {
   "cell_type": "code",
   "execution_count": 27,
   "metadata": {
    "collapsed": false
   },
   "outputs": [
    {
     "name": "stdout",
     "output_type": "stream",
     "text": [
      "Accuracy of Classifier:0.742\n"
     ]
    }
   ],
   "source": [
    "# Naive Bayes Model\n",
    "question_data_log = question_data.copy()\n",
    "question_data_log['gender_female'] = meta_data['gender'].apply(lambda x:1 if x=='F' else 0)\n",
    "model = GaussianNB() \n",
    "features = np.asarray(question_data_log[question_data_log.columns[0:50]])\n",
    "labels = np.asarray(question_data_log['gender_female'])\n",
    "x_train, x_test, y_train, y_test = train_test_split(features,labels,test_size=0.05,train_size=0.95)\n",
    "model.fit(x_train,y_train)\n",
    "measure_performance(x_test,y_test,model)"
   ]
  },
  {
   "cell_type": "code",
   "execution_count": 28,
   "metadata": {
    "collapsed": false
   },
   "outputs": [],
   "source": [
    "# part6 clustering - using machine learning techniques"
   ]
  },
  {
   "cell_type": "code",
   "execution_count": 29,
   "metadata": {
    "collapsed": false
   },
   "outputs": [],
   "source": [
    "question_data_cluster = question_data.copy().transpose()\n",
    "question_table_data_cluster = question_table_data.copy()"
   ]
  },
  {
   "cell_type": "code",
   "execution_count": null,
   "metadata": {
    "collapsed": false,
    "scrolled": true
   },
   "outputs": [],
   "source": []
  },
  {
   "cell_type": "code",
   "execution_count": null,
   "metadata": {
    "collapsed": false
   },
   "outputs": [],
   "source": []
  },
  {
   "cell_type": "code",
   "execution_count": 30,
   "metadata": {
    "collapsed": true
   },
   "outputs": [],
   "source": [
    "# future direction \n",
    "\n",
    "# We may be able to exmain the impact of scandals/corruption cases \n",
    "# Or the shift of public opnion from 2007 (given more data)\n",
    "# And if we can reweight the data properly\n",
    "# We may be able to tell the ideology of Chinese population"
   ]
  }
 ],
 "metadata": {
  "kernelspec": {
   "display_name": "Python 2",
   "language": "python",
   "name": "python2"
  },
  "language_info": {
   "codemirror_mode": {
    "name": "ipython",
    "version": 2
   },
   "file_extension": ".py",
   "mimetype": "text/x-python",
   "name": "python",
   "nbconvert_exporter": "python",
   "pygments_lexer": "ipython2",
   "version": "2.7.10"
  }
 },
 "nbformat": 4,
 "nbformat_minor": 0
}
