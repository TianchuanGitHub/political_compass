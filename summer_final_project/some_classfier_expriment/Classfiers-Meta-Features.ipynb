{
 "cells": [
  {
   "cell_type": "code",
   "execution_count": 28,
   "metadata": {
    "collapsed": false
   },
   "outputs": [],
   "source": [
    "import pandas as pd\n",
    "import numpy as np\n",
    "\n",
    "from sklearn.cross_validation import cross_val_score\n",
    "from sklearn.cross_validation import train_test_split\n",
    "from sklearn.tree import DecisionTreeClassifier\n",
    "from sklearn import preprocessing\n",
    "from sklearn.linear_model import LogisticRegression\n",
    "from sklearn import cross_validation\n",
    "from sklearn.ensemble import RandomForestClassifier\n",
    "from sklearn.naive_bayes import MultinomialNB\n",
    "from sklearn.feature_extraction.text import CountVectorizer\n",
    "from sklearn import metrics\n",
    "from sklearn import tree\n",
    "\n",
    "%matplotlib inline"
   ]
  },
  {
   "cell_type": "code",
   "execution_count": 20,
   "metadata": {
    "collapsed": false
   },
   "outputs": [],
   "source": [
    "df = pd.read_csv('2014data.csv')\n",
    "data = df.copy()"
   ]
  },
  {
   "cell_type": "code",
   "execution_count": 21,
   "metadata": {
    "collapsed": false
   },
   "outputs": [],
   "source": [
    "question_list = data.columns[3:53]\n",
    "meta_list = data.columns[53:54].append(data.columns[56:])\n",
    "\n",
    "data['学历'] = data['学历'].replace({'初中及以下': '0','高中': '1','大学': '2','研究生及以上': '3'})\n",
    "data['性别'] = data['性别'].replace({'M': '1','F': '0'})\n",
    "for x in question_list:\n",
    "    data[x] = data[x].replace({'强烈反对': '0','反对': '0','同意': '1','强烈同意': '1'})\n",
    "    \n",
    "data = data.dropna()"
   ]
  },
  {
   "cell_type": "code",
   "execution_count": 22,
   "metadata": {
    "collapsed": false
   },
   "outputs": [],
   "source": [
    "# data['学历'] = data['学历'].replace({'初中及以下': '1','高中': '2','大学': '3','研究生及以上': '4'})\n",
    "# data['性别'] = data['性别'].replace({'M': '1','F': '0'})\n",
    "# for x in question_list:\n",
    "#     data[x] = data[x].replace({'强烈反对': 0,'反对': 0,'同意': 1,'强烈同意': 1})\n",
    "# # data['学历'].replace({'大学': '3'})\n",
    "# # data['学历'].replace({'研究生及以上': '4'})\n"
   ]
  },
  {
   "cell_type": "code",
   "execution_count": null,
   "metadata": {
    "collapsed": false
   },
   "outputs": [],
   "source": []
  },
  {
   "cell_type": "code",
   "execution_count": 23,
   "metadata": {
    "collapsed": false
   },
   "outputs": [],
   "source": [
    "def measure_performance(X,y,clf, show_accuracy=True, show_classification_report=True, show_confussion_matrix=True):\n",
    "    y_pred=clf.predict(X)\n",
    "    if show_accuracy:\n",
    "        print \"Accuracy of Classifier:{0:.3f}\".format(metrics.accuracy_score(y, y_pred)),\n",
    "    if show_confussion_matrix:\n",
    "        print \"Confusion matrix\"\n",
    "        print metrics.confusion_matrix(y,y_pred),\"\\n\"\n",
    "    if show_classification_report:\n",
    "        print \"Classification report\"\n",
    "        print metrics.classification_report(y,y_pred),\"\\n\""
   ]
  },
  {
   "cell_type": "code",
   "execution_count": null,
   "metadata": {
    "collapsed": true
   },
   "outputs": [],
   "source": []
  },
  {
   "cell_type": "code",
   "execution_count": null,
   "metadata": {
    "collapsed": true
   },
   "outputs": [],
   "source": []
  },
  {
   "cell_type": "code",
   "execution_count": 24,
   "metadata": {
    "collapsed": false,
    "scrolled": true
   },
   "outputs": [],
   "source": [
    "\n",
    "# features = []\n",
    "# labels = []\n",
    "# features = np.asarray(data[question_list])\n",
    "# print features\n",
    "# # for x in meta_list:\n",
    "# #     labels.append(np.asarray(data[x]))\n",
    "# labels = np.asarray(data[meta_list[2]])\n",
    "# print labels"
   ]
  },
  {
   "cell_type": "code",
   "execution_count": null,
   "metadata": {
    "collapsed": true
   },
   "outputs": [],
   "source": []
  },
  {
   "cell_type": "code",
   "execution_count": null,
   "metadata": {
    "collapsed": false,
    "scrolled": true
   },
   "outputs": [],
   "source": []
  },
  {
   "cell_type": "code",
   "execution_count": 25,
   "metadata": {
    "collapsed": false
   },
   "outputs": [],
   "source": [
    "# model = RandomForestClassifier()\n",
    "# model.fit(x_train,y_train)\n",
    "# measure_performance(x_test,y_test,model)"
   ]
  },
  {
   "cell_type": "code",
   "execution_count": null,
   "metadata": {
    "collapsed": true
   },
   "outputs": [],
   "source": []
  },
  {
   "cell_type": "code",
   "execution_count": 26,
   "metadata": {
    "collapsed": false
   },
   "outputs": [
    {
     "name": "stdout",
     "output_type": "stream",
     "text": [
      "性别\n",
      "Accuracy of Classifier:0.714 Confusion matrix\n",
      "[[1822 1196]\n",
      " [1246 4275]] \n",
      "\n",
      "Classification report\n",
      "             precision    recall  f1-score   support\n",
      "\n",
      "          0       0.59      0.60      0.60      3018\n",
      "          1       0.78      0.77      0.78      5521\n",
      "\n",
      "avg / total       0.72      0.71      0.71      8539\n",
      "\n",
      "\n",
      "学历\n",
      "Accuracy of Classifier:0.647 Confusion matrix\n",
      "[[   4   26  230    7]\n",
      " [   6   65  983   21]\n",
      " [  18  188 5356  206]\n",
      " [   3   37 1293   96]] \n",
      "\n",
      "Classification report\n",
      "             precision    recall  f1-score   support\n",
      "\n",
      "          0       0.13      0.01      0.03       267\n",
      "          1       0.21      0.06      0.09      1075\n",
      "          2       0.68      0.93      0.79      5768\n",
      "          3       0.29      0.07      0.11      1429\n",
      "\n",
      "avg / total       0.54      0.65      0.56      8539\n",
      "\n",
      "\n"
     ]
    }
   ],
   "source": [
    "# RandomForestClassifier()\n",
    "for i in range(0,len(meta_list)):    \n",
    "    features = []\n",
    "    labels = []\n",
    "    features = np.asarray(data[question_list].dropna())\n",
    "    labels = np.asarray(data[meta_list[i]].dropna())\n",
    "    x_train, x_test, y_train, y_test = train_test_split(features,labels,test_size=0.05,train_size=0.95)\n",
    "    model = RandomForestClassifier()\n",
    "    model.fit(x_train,y_train)\n",
    "    print meta_list[i]\n",
    "    i += 1\n",
    "    measure_performance(x_test,y_test,model)"
   ]
  },
  {
   "cell_type": "code",
   "execution_count": 29,
   "metadata": {
    "collapsed": false
   },
   "outputs": [
    {
     "name": "stdout",
     "output_type": "stream",
     "text": [
      "性别\n",
      "Accuracy of Classifier:0.660 Confusion matrix\n",
      "[[1584 1418]\n",
      " [1481 4056]] \n",
      "\n",
      "Classification report\n",
      "             precision    recall  f1-score   support\n",
      "\n",
      "          0       0.52      0.53      0.52      3002\n",
      "          1       0.74      0.73      0.74      5537\n",
      "\n",
      "avg / total       0.66      0.66      0.66      8539\n",
      "\n",
      "\n",
      "学历\n",
      "Accuracy of Classifier:0.484 Confusion matrix\n",
      "[[  18   52  159   44]\n",
      " [  54  180  623  170]\n",
      " [ 215  885 3638 1064]\n",
      " [  47  198  896  296]] \n",
      "\n",
      "Classification report\n",
      "             precision    recall  f1-score   support\n",
      "\n",
      "          0       0.05      0.07      0.06       273\n",
      "          1       0.14      0.18      0.15      1027\n",
      "          2       0.68      0.63      0.65      5802\n",
      "          3       0.19      0.21      0.20      1437\n",
      "\n",
      "avg / total       0.51      0.48      0.50      8539\n",
      "\n",
      "\n"
     ]
    }
   ],
   "source": [
    "# DecisionTreeClassifier()\n",
    "for i in range(0,len(meta_list)):    \n",
    "    features = []\n",
    "    labels = []\n",
    "    features = np.asarray(data[question_list])\n",
    "    labels = np.asarray(data[meta_list[i]])\n",
    "    x_train, x_test, y_train, y_test = train_test_split(features,labels,test_size=0.05,train_size=0.95)\n",
    "    dt = tree.DecisionTreeClassifier()\n",
    "    dt = dt.fit(x_train,y_train)\n",
    "    print meta_list[i]\n",
    "    i += 1\n",
    "    measure_performance(x_test,y_test,dt)"
   ]
  },
  {
   "cell_type": "code",
   "execution_count": null,
   "metadata": {
    "collapsed": false
   },
   "outputs": [],
   "source": [
    "#logistic regression\n",
    "titanic['sex_female'] = titanic['sex'].apply(lambda x:1 if x=='female' else 0)\n",
    "# creating a new column, contains boolean value\n",
    "dataset = titanic[['survived']].join([pd.get_dummies(titanic['pclass'],prefix=\"pclass\"),titanic.sex_female])\n",
    "# creating a new data set, which contains boolean values of pclasses and sex_female and survived\n",
    "#dataset\n",
    "lm = LogisticRegression()\n",
    "#drop pclass_1st to avoid dummy variable trap\n",
    "x = np.asarray(dataset[['pclass_3rd','pclass_2nd','sex_female']])\n",
    "y = np.asarray(dataset['survived'])\n",
    "#　you have to drop one variable, sorry! \n",
    "lm = lm.fit(x,y)\n",
    "print lm.score(x,y)\n",
    "print type(lm)"
   ]
  },
  {
   "cell_type": "code",
   "execution_count": null,
   "metadata": {
    "collapsed": false
   },
   "outputs": [],
   "source": []
  },
  {
   "cell_type": "code",
   "execution_count": null,
   "metadata": {
    "collapsed": false
   },
   "outputs": [],
   "source": []
  },
  {
   "cell_type": "code",
   "execution_count": null,
   "metadata": {
    "collapsed": true
   },
   "outputs": [],
   "source": []
  },
  {
   "cell_type": "code",
   "execution_count": null,
   "metadata": {
    "collapsed": true
   },
   "outputs": [],
   "source": []
  }
 ],
 "metadata": {
  "kernelspec": {
   "display_name": "Python 2",
   "language": "python",
   "name": "python2"
  },
  "language_info": {
   "codemirror_mode": {
    "name": "ipython",
    "version": 2
   },
   "file_extension": ".py",
   "mimetype": "text/x-python",
   "name": "python",
   "nbconvert_exporter": "python",
   "pygments_lexer": "ipython2",
   "version": "2.7.10"
  }
 },
 "nbformat": 4,
 "nbformat_minor": 0
}
